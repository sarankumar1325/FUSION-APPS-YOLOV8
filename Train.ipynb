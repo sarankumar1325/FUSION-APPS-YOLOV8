{
  "nbformat": 4,
  "nbformat_minor": 0,
  "metadata": {
    "colab": {
      "provenance": []
    },
    "kernelspec": {
      "name": "python3",
      "display_name": "Python 3"
    },
    "language_info": {
      "name": "python"
    },
    "accelerator": "GPU",
    "gpuClass": "standard"
  },
  "cells": [
    {
      "cell_type": "code",
      "execution_count": null,
      "metadata": {
        "id": "CMPpVTDr8y_P"
      },
      "outputs": [],
      "source": [
        "### 1. Mount Google Drive ###\n",
        "\n",
        "from google.colab import drive\n",
        "\n",
        "drive.mount('/content/gdrive')"
      ]
    },
    {
      "cell_type": "code",
      "source": [
        "### 2. Prepare data ###\n",
        "\n",
        "!scp '/content/gdrive/My Drive/TrainYolov8PoseDetectionGoogleColab/data.zip' '/content/data.zip'\n",
        "\n",
        "!unzip '/content/data.zip' -d '/content/'"
      ],
      "metadata": {
        "id": "vVJ8JiCPa1QL"
      },
      "execution_count": null,
      "outputs": []
    },
    {
      "cell_type": "code",
      "source": [
        "### 3. Install Ultralytics ###\n",
        "\n",
        "!pip install ultralytics"
      ],
      "metadata": {
        "id": "3UdWqYtu9KB_"
      },
      "execution_count": null,
      "outputs": []
    },
    {
      "cell_type": "code",
      "source": [
        "### 4. Train model ###\n",
        "\n",
        "import os\n",
        "\n",
        "from ultralytics import YOLO\n",
        "\n",
        "\n",
        "model = YOLO('yolov8n-pose.pt')  # load a pretrained model (recommended for training)\n",
        "\n",
        "model.train(data='/content/gdrive/My Drive/TrainYolov8PoseDetectionGoogleColab/config.yaml', epochs=50)\n"
      ],
      "metadata": {
        "id": "zy7BcAyj9LvW"
      },
      "execution_count": null,
      "outputs": []
    },
    {
      "cell_type": "code",
      "source": [
        "### 5. Copy results ###\n",
        "\n",
        "!scp -r /content/runs '/content/gdrive/My Drive/TrainYolov8PoseDetectionGoogleColab'"
      ],
      "metadata": {
        "id": "dZt7FiKD9NVR"
      },
      "execution_count": null,
      "outputs": []
    }
  ]
}